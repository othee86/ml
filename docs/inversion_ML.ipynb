{
  "nbformat": 4,
  "nbformat_minor": 0,
  "metadata": {
    "colab": {
      "name": "1.01-numbers.ipynb",
      "version": "0.3.2",
      "provenance": []
    },
    "kernelspec": {
      "display_name": "Python 3",
      "language": "python",
      "name": "python3"
    }
  },
  "cells": [
    {
      "metadata": {
        "id": "cJ5cMuFvlzqE",
        "colab_type": "text"
      },
      "cell_type": "markdown",
      "source": [
        "# Numbers\n",
        "\n",
        "    Types of Numbers in Python\n",
        "    Basic Arithmetic\n",
        "    Differences between Python 2 vs 3 in division\n",
        "    Object Assignment in Python"
      ]
    },
    {
      "metadata": {
        "id": "ly4ggHk2lzqF",
        "colab_type": "text"
      },
      "cell_type": "markdown",
      "source": [
        "## Types of numbers\n",
        "\n",
        "Python has various \"types\" of numbers (numeric literals).\n",
        "\n",
        "Integers are just whole numbers, positive or negative. For example: 2 and -2 are examples of integers.\n",
        "\n",
        "Floating point numbers in Python are notable because they have a decimal point in them, or use an exponential (e) to define the number. For example 2.0 and -2.1 are examples of floating point numbers. 4E2 (4 times 10 to the power of 2) is also an example of a floating point number in Python.\n",
        "\n",
        "Here is a table of the two main types we will spend most of our time working with some examples:"
      ]
    },
    {
      "metadata": {
        "id": "f5LFaDyrlzqH",
        "colab_type": "text"
      },
      "cell_type": "markdown",
      "source": [
        "<table>\n",
        "<tr>\n",
        "    <th>Examples</th> \n",
        "    <th>Number \"Type\"</th>\n",
        "</tr>\n",
        "\n",
        "<tr>\n",
        "    <td>1, 2, -5, 1000</td>\n",
        "    <td>Integers</td> \n",
        "</tr>\n",
        "\n",
        "<tr>\n",
        "    <td>1.2, -0.5, 2e2, 3E2</td> \n",
        "    <td>Floating-point numbers</td> \n",
        "</tr>\n",
        " </table>"
      ]
    },
    {
      "metadata": {
        "id": "2T6GItf8lzqK",
        "colab_type": "text"
      },
      "cell_type": "markdown",
      "source": [
        "### Basic Arithmetic"
      ]
    },
    {
      "metadata": {
        "id": "_cBDjw0clzqL",
        "colab_type": "code",
        "colab": {
          "base_uri": "https://localhost:8080/",
          "height": 34
        },
        "outputId": "04e38694-485e-4ca6-a410-b13968effccb"
      },
      "cell_type": "code",
      "source": [
        "# Addition\n",
        "2+1"
      ],
      "execution_count": 0,
      "outputs": [
        {
          "output_type": "execute_result",
          "data": {
            "text/plain": [
              "3"
            ]
          },
          "metadata": {
            "tags": []
          },
          "execution_count": 1
        }
      ]
    },
    {
      "metadata": {
        "id": "nspncD0Lnk6u",
        "colab_type": "code",
        "colab": {}
      },
      "cell_type": "code",
      "source": [
        "a = [1,2,3,4]"
      ],
      "execution_count": 0,
      "outputs": []
    },
    {
      "metadata": {
        "id": "xcaiIwvAnmr9",
        "colab_type": "code",
        "colab": {
          "base_uri": "https://localhost:8080/",
          "height": 34
        },
        "outputId": "04b1c95a-1c18-46c0-c4ab-0fa2fdfd445f"
      },
      "cell_type": "code",
      "source": [
        "type(a)"
      ],
      "execution_count": 0,
      "outputs": [
        {
          "output_type": "execute_result",
          "data": {
            "text/plain": [
              "list"
            ]
          },
          "metadata": {
            "tags": []
          },
          "execution_count": 7
        }
      ]
    },
    {
      "metadata": {
        "id": "SXKecydEnl1Q",
        "colab_type": "code",
        "colab": {
          "base_uri": "https://localhost:8080/",
          "height": 34
        },
        "outputId": "a0ce1438-ff78-40d7-ad2c-93c9dccb541c"
      },
      "cell_type": "code",
      "source": [
        "a[3]"
      ],
      "execution_count": 0,
      "outputs": [
        {
          "output_type": "execute_result",
          "data": {
            "text/plain": [
              "4"
            ]
          },
          "metadata": {
            "tags": []
          },
          "execution_count": 8
        }
      ]
    },
    {
      "metadata": {
        "id": "b2fBrv2woB58",
        "colab_type": "code",
        "colab": {}
      },
      "cell_type": "code",
      "source": [
        "a[3] = 500000"
      ],
      "execution_count": 0,
      "outputs": []
    },
    {
      "metadata": {
        "id": "x5Zeb2LFoCVt",
        "colab_type": "code",
        "colab": {
          "base_uri": "https://localhost:8080/",
          "height": 34
        },
        "outputId": "1fd29e12-037e-4546-d244-f6ef237abd31"
      },
      "cell_type": "code",
      "source": [
        "a"
      ],
      "execution_count": 0,
      "outputs": [
        {
          "output_type": "execute_result",
          "data": {
            "text/plain": [
              "[1, 2, 3, 500000]"
            ]
          },
          "metadata": {
            "tags": []
          },
          "execution_count": 10
        }
      ]
    },
    {
      "metadata": {
        "id": "t3VVBf4soCv4",
        "colab_type": "code",
        "colab": {}
      },
      "cell_type": "code",
      "source": [
        "b = (1,2)"
      ],
      "execution_count": 0,
      "outputs": []
    },
    {
      "metadata": {
        "id": "FhWevXdkoDI7",
        "colab_type": "code",
        "colab": {
          "base_uri": "https://localhost:8080/",
          "height": 34
        },
        "outputId": "dcb6c1b9-795b-4ef6-fbe2-df2c298fedb6"
      },
      "cell_type": "code",
      "source": [
        "type(b)"
      ],
      "execution_count": 0,
      "outputs": [
        {
          "output_type": "execute_result",
          "data": {
            "text/plain": [
              "tuple"
            ]
          },
          "metadata": {
            "tags": []
          },
          "execution_count": 12
        }
      ]
    },
    {
      "metadata": {
        "id": "5QuacPtdn_nb",
        "colab_type": "code",
        "colab": {
          "base_uri": "https://localhost:8080/",
          "height": 164
        },
        "outputId": "c2af5bd3-cb82-4209-f6f7-a89043e16096"
      },
      "cell_type": "code",
      "source": [
        "b[1] = 1000"
      ],
      "execution_count": 0,
      "outputs": [
        {
          "output_type": "error",
          "ename": "TypeError",
          "evalue": "ignored",
          "traceback": [
            "\u001b[0;31m---------------------------------------------------------------------------\u001b[0m",
            "\u001b[0;31mTypeError\u001b[0m                                 Traceback (most recent call last)",
            "\u001b[0;32m<ipython-input-13-2a684bfe9b31>\u001b[0m in \u001b[0;36m<module>\u001b[0;34m()\u001b[0m\n\u001b[0;32m----> 1\u001b[0;31m \u001b[0mb\u001b[0m\u001b[0;34m[\u001b[0m\u001b[0;36m1\u001b[0m\u001b[0;34m]\u001b[0m \u001b[0;34m=\u001b[0m \u001b[0;36m1000\u001b[0m\u001b[0;34m\u001b[0m\u001b[0m\n\u001b[0m",
            "\u001b[0;31mTypeError\u001b[0m: 'tuple' object does not support item assignment"
          ]
        }
      ]
    },
    {
      "metadata": {
        "id": "zL4PbVTsoAFc",
        "colab_type": "code",
        "colab": {}
      },
      "cell_type": "code",
      "source": [
        "a = \"this is AI training\""
      ],
      "execution_count": 0,
      "outputs": []
    },
    {
      "metadata": {
        "id": "HweaM_Hbp3iy",
        "colab_type": "code",
        "colab": {}
      },
      "cell_type": "code",
      "source": [
        "b =  a.split(\" \")"
      ],
      "execution_count": 0,
      "outputs": []
    },
    {
      "metadata": {
        "id": "6sMjdojwqJ3o",
        "colab_type": "code",
        "colab": {
          "base_uri": "https://localhost:8080/",
          "height": 34
        },
        "outputId": "58e7c22f-61de-48d6-e74c-0b5cafbfb800"
      },
      "cell_type": "code",
      "source": [
        "type(b)"
      ],
      "execution_count": 0,
      "outputs": [
        {
          "output_type": "execute_result",
          "data": {
            "text/plain": [
              "list"
            ]
          },
          "metadata": {
            "tags": []
          },
          "execution_count": 17
        }
      ]
    },
    {
      "metadata": {
        "id": "AnZYnngylzqT",
        "colab_type": "code",
        "colab": {},
        "outputId": "7a5d6a75-58df-47bf-c6c3-56e89809939c"
      },
      "cell_type": "code",
      "source": [
        "# Subtraction\n",
        "2-1"
      ],
      "execution_count": 0,
      "outputs": [
        {
          "output_type": "execute_result",
          "data": {
            "text/plain": [
              "1"
            ]
          },
          "metadata": {
            "tags": []
          },
          "execution_count": 57
        }
      ]
    },
    {
      "metadata": {
        "id": "vw7rntdqp47O",
        "colab_type": "code",
        "colab": {}
      },
      "cell_type": "code",
      "source": [
        ""
      ],
      "execution_count": 0,
      "outputs": []
    },
    {
      "metadata": {
        "id": "0yKkSi8jlzqW",
        "colab_type": "code",
        "colab": {},
        "outputId": "30ba4ea5-fff1-40a3-aef4-65179c497312"
      },
      "cell_type": "code",
      "source": [
        "# Multiplication\n",
        "2*2"
      ],
      "execution_count": 0,
      "outputs": [
        {
          "output_type": "execute_result",
          "data": {
            "text/plain": [
              "4"
            ]
          },
          "metadata": {
            "tags": []
          },
          "execution_count": 58
        }
      ]
    },
    {
      "metadata": {
        "id": "7zFh_1imlzqZ",
        "colab_type": "code",
        "colab": {},
        "outputId": "a40f9437-b7d3-4dea-9d8e-37ad85bf48c8"
      },
      "cell_type": "code",
      "source": [
        "# Division\n",
        "3/2"
      ],
      "execution_count": 0,
      "outputs": [
        {
          "output_type": "execute_result",
          "data": {
            "text/plain": [
              "1.5"
            ]
          },
          "metadata": {
            "tags": []
          },
          "execution_count": 59
        }
      ]
    },
    {
      "metadata": {
        "id": "WvZovBgilzqc",
        "colab_type": "text"
      },
      "cell_type": "markdown",
      "source": [
        "### <font color='red'>Python 2</font>\n",
        "\n",
        "In Python 2, 3 divided by 2 is equal to 1\n",
        "\n",
        "So what do we do if we are using Python 2 to avoid this?\n",
        "\n",
        "There are two options:\n",
        "\n",
        "Specify one of the numbers to be a float:"
      ]
    },
    {
      "metadata": {
        "id": "EUeUmBY9lzqc",
        "colab_type": "code",
        "colab": {},
        "outputId": "7f269179-3ed0-474e-fadc-c6d6e88f7e53"
      },
      "cell_type": "code",
      "source": [
        "# Specifying one of the numbers as a float\n",
        "3.0/2"
      ],
      "execution_count": 0,
      "outputs": [
        {
          "output_type": "execute_result",
          "data": {
            "text/plain": [
              "1.5"
            ]
          },
          "metadata": {
            "tags": []
          },
          "execution_count": 60
        }
      ]
    },
    {
      "metadata": {
        "id": "C1bw1aUHlzqj",
        "colab_type": "code",
        "colab": {},
        "outputId": "933403dc-3b18-4803-838f-54d0f16198f9"
      },
      "cell_type": "code",
      "source": [
        "# Works for either number\n",
        "3/2.0"
      ],
      "execution_count": 0,
      "outputs": [
        {
          "output_type": "execute_result",
          "data": {
            "text/plain": [
              "1.5"
            ]
          },
          "metadata": {
            "tags": []
          },
          "execution_count": 61
        }
      ]
    },
    {
      "metadata": {
        "id": "NDtLJJo2lzqm",
        "colab_type": "text"
      },
      "cell_type": "markdown",
      "source": [
        "We could also \"cast\" the type using a function that basically turns integers into floats. This function, unsurprisingly, is called float()."
      ]
    },
    {
      "metadata": {
        "id": "c4KY2ykilzqm",
        "colab_type": "code",
        "colab": {},
        "outputId": "747be758-323a-4337-f2a1-8f257d5c2658"
      },
      "cell_type": "code",
      "source": [
        "# We can use this float() function to cast integers as floats:\n",
        "float(3)/2"
      ],
      "execution_count": 0,
      "outputs": [
        {
          "output_type": "execute_result",
          "data": {
            "text/plain": [
              "1.5"
            ]
          },
          "metadata": {
            "tags": []
          },
          "execution_count": 62
        }
      ]
    },
    {
      "metadata": {
        "id": "-aErszdElzqp",
        "colab_type": "text"
      },
      "cell_type": "markdown",
      "source": [
        "We can use to deal with classic division in Python 2 is importing from a module called __future__.\n",
        "\n",
        "This is a module in Python 2 that has Python 3 functions, this basically allows you to import Python 3 functions into Python 2. "
      ]
    },
    {
      "metadata": {
        "id": "4xR0SvCelzqp",
        "colab_type": "code",
        "colab": {},
        "outputId": "2786a194-9a47-4fc2-c878-d693965baa7b"
      },
      "cell_type": "code",
      "source": [
        "from __future__ import division\n",
        "3/2"
      ],
      "execution_count": 0,
      "outputs": [
        {
          "output_type": "execute_result",
          "data": {
            "text/plain": [
              "1.5"
            ]
          },
          "metadata": {
            "tags": []
          },
          "execution_count": 63
        }
      ]
    },
    {
      "metadata": {
        "id": "-0AFcjmMlzqs",
        "colab_type": "text"
      },
      "cell_type": "markdown",
      "source": [
        "When you import division from the __future__ you won't need to worry about classic division occurring anymore anywhere in your code!"
      ]
    },
    {
      "metadata": {
        "id": "GhJ44W4Blzqs",
        "colab_type": "text"
      },
      "cell_type": "markdown",
      "source": [
        "### Arithmetic continued"
      ]
    },
    {
      "metadata": {
        "id": "AReQdkCplzqs",
        "colab_type": "code",
        "colab": {},
        "outputId": "93c23e9d-cc2d-4581-e282-dfd3a382d610"
      },
      "cell_type": "code",
      "source": [
        "# Powers\n",
        "2**3"
      ],
      "execution_count": 0,
      "outputs": [
        {
          "output_type": "execute_result",
          "data": {
            "text/plain": [
              "8"
            ]
          },
          "metadata": {
            "tags": []
          },
          "execution_count": 64
        }
      ]
    },
    {
      "metadata": {
        "id": "iIaL03xZlzqu",
        "colab_type": "code",
        "colab": {},
        "outputId": "2b53249e-a35d-4672-98d2-24bda4bdcc39"
      },
      "cell_type": "code",
      "source": [
        "# Can also do roots this way\n",
        "4**0.5"
      ],
      "execution_count": 0,
      "outputs": [
        {
          "output_type": "execute_result",
          "data": {
            "text/plain": [
              "2.0"
            ]
          },
          "metadata": {
            "tags": []
          },
          "execution_count": 65
        }
      ]
    },
    {
      "metadata": {
        "id": "irEomRVVlzqx",
        "colab_type": "code",
        "colab": {},
        "outputId": "bd3a9bb8-1f5e-4348-99b6-dab868c11f08"
      },
      "cell_type": "code",
      "source": [
        "# Order of Operations followed in Python\n",
        "2 + 10 * 10 + 3"
      ],
      "execution_count": 0,
      "outputs": [
        {
          "output_type": "execute_result",
          "data": {
            "text/plain": [
              "105"
            ]
          },
          "metadata": {
            "tags": []
          },
          "execution_count": 66
        }
      ]
    },
    {
      "metadata": {
        "id": "pAKXKm58lzqz",
        "colab_type": "code",
        "colab": {},
        "outputId": "d87a8fea-1e2d-41f4-a267-fd9c07153ae3"
      },
      "cell_type": "code",
      "source": [
        "# Can use parenthesis to specify orders\n",
        "(2+10) * (10+3)"
      ],
      "execution_count": 0,
      "outputs": [
        {
          "output_type": "execute_result",
          "data": {
            "text/plain": [
              "156"
            ]
          },
          "metadata": {
            "tags": []
          },
          "execution_count": 67
        }
      ]
    },
    {
      "metadata": {
        "id": "6U1IGJVvlzq1",
        "colab_type": "text"
      },
      "cell_type": "markdown",
      "source": [
        "## Variable Assignments"
      ]
    },
    {
      "metadata": {
        "id": "LeBfXp8Elzq1",
        "colab_type": "code",
        "colab": {}
      },
      "cell_type": "code",
      "source": [
        "# Let's create an object called \"a\" and assign it the number 5\n",
        "a = 5"
      ],
      "execution_count": 0,
      "outputs": []
    },
    {
      "metadata": {
        "id": "CQwIQtjplzq2",
        "colab_type": "text"
      },
      "cell_type": "markdown",
      "source": [
        "Now if I call *a* in my Python script, Python will treat it as the number 5."
      ]
    },
    {
      "metadata": {
        "id": "wmAdkVSilzq3",
        "colab_type": "code",
        "colab": {},
        "outputId": "e7d56725-8102-40a8-bc1a-e26f1ff9fb71"
      },
      "cell_type": "code",
      "source": [
        "# Adding the objects\n",
        "a+a"
      ],
      "execution_count": 0,
      "outputs": [
        {
          "output_type": "execute_result",
          "data": {
            "text/plain": [
              "10"
            ]
          },
          "metadata": {
            "tags": []
          },
          "execution_count": 69
        }
      ]
    },
    {
      "metadata": {
        "id": "gF8X8YSYlzq5",
        "colab_type": "text"
      },
      "cell_type": "markdown",
      "source": [
        "What happens on reassignment? Will Python let us write it over?"
      ]
    },
    {
      "metadata": {
        "id": "wpty_avIlzq5",
        "colab_type": "code",
        "colab": {}
      },
      "cell_type": "code",
      "source": [
        "# Reassignment\n",
        "a = 10"
      ],
      "execution_count": 0,
      "outputs": []
    },
    {
      "metadata": {
        "id": "r52cz3l6lzq7",
        "colab_type": "code",
        "colab": {},
        "outputId": "effd6f30-538f-4728-aa59-ae6245f83b12"
      },
      "cell_type": "code",
      "source": [
        "# Check\n",
        "a"
      ],
      "execution_count": 0,
      "outputs": [
        {
          "output_type": "execute_result",
          "data": {
            "text/plain": [
              "10"
            ]
          },
          "metadata": {
            "tags": []
          },
          "execution_count": 71
        }
      ]
    },
    {
      "metadata": {
        "id": "XxMMZbGjlzq8",
        "colab_type": "text"
      },
      "cell_type": "markdown",
      "source": [
        "Yes! Python allows you to write over assigned variable names. We can also use the variables themselves when doing the reassignment. Here is an example of what I mean:"
      ]
    },
    {
      "metadata": {
        "id": "PFfY7ctQlzq9",
        "colab_type": "code",
        "colab": {},
        "outputId": "07cfe9c0-6c07-453a-d6ef-3b2d8044b92e"
      },
      "cell_type": "code",
      "source": [
        "# Check\n",
        "a"
      ],
      "execution_count": 0,
      "outputs": [
        {
          "output_type": "execute_result",
          "data": {
            "text/plain": [
              "10"
            ]
          },
          "metadata": {
            "tags": []
          },
          "execution_count": 72
        }
      ]
    },
    {
      "metadata": {
        "id": "h2ytdVD_lzq_",
        "colab_type": "code",
        "colab": {}
      },
      "cell_type": "code",
      "source": [
        "# Use A to redefine A\n",
        "a = a + a"
      ],
      "execution_count": 0,
      "outputs": []
    },
    {
      "metadata": {
        "id": "Pr2IXUaOlzrA",
        "colab_type": "code",
        "colab": {},
        "outputId": "06c335b7-48ab-41b1-ac59-f52c26d83036"
      },
      "cell_type": "code",
      "source": [
        "# Check \n",
        "a"
      ],
      "execution_count": 0,
      "outputs": [
        {
          "output_type": "execute_result",
          "data": {
            "text/plain": [
              "20"
            ]
          },
          "metadata": {
            "tags": []
          },
          "execution_count": 74
        }
      ]
    },
    {
      "metadata": {
        "id": "INd2ZIuElzrC",
        "colab_type": "text"
      },
      "cell_type": "markdown",
      "source": [
        "The names you use when creating these labels need to follow a few rules:\n",
        "\n",
        "    1. Names can not start with a number.\n",
        "    2. There can be no spaces in the name, use _ instead.\n",
        "    3. Can't use any of these symbols :'\",<>/?|\\()!@#$%^&*~-+\n",
        "    3. It's considered best practice (PEP8) that the names are lowercase.\n",
        "\n",
        "Using variable names can be a very useful way to keep track of different variables in Python. For example:"
      ]
    },
    {
      "metadata": {
        "id": "E3vtVMfllzrD",
        "colab_type": "code",
        "colab": {}
      },
      "cell_type": "code",
      "source": [
        "# Use object names to keep better track of what's going on in your code!\n",
        "my_income = 100\n",
        "\n",
        "tax_rate = 0.1\n",
        "\n",
        "my_taxes = my_income*tax_rate"
      ],
      "execution_count": 0,
      "outputs": []
    },
    {
      "metadata": {
        "id": "Ltf_OfChlzrF",
        "colab_type": "code",
        "colab": {},
        "outputId": "9a0ae1b5-0e82-4621-9aa7-ae66480dafe5"
      },
      "cell_type": "code",
      "source": [
        "# Show my taxes!\n",
        "my_taxes"
      ],
      "execution_count": 0,
      "outputs": [
        {
          "output_type": "execute_result",
          "data": {
            "text/plain": [
              "10.0"
            ]
          },
          "metadata": {
            "tags": []
          },
          "execution_count": 76
        }
      ]
    },
    {
      "metadata": {
        "id": "0TFxx0lrlzrH",
        "colab_type": "code",
        "colab": {}
      },
      "cell_type": "code",
      "source": [
        ""
      ],
      "execution_count": 0,
      "outputs": []
    }
  ]
}