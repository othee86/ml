{
  "nbformat": 4,
  "nbformat_minor": 0,
  "metadata": {
    "colab": {
      "name": "Iversion.ipynb",
      "version": "0.3.2",
      "provenance": [],
      "include_colab_link": true
    },
    "kernelspec": {
      "name": "python3",
      "display_name": "Python 3"
    }
  },
  "cells": [
    {
      "cell_type": "markdown",
      "metadata": {
        "id": "view-in-github",
        "colab_type": "text"
      },
      "source": [
        "[View in Colaboratory](https://colab.research.google.com/github/othee86/ml/blob/master/docs/Iversion.ipynb)"
      ]
    },
    {
      "metadata": {
        "id": "jW6E3ez78IRd",
        "colab_type": "text"
      },
      "cell_type": "markdown",
      "source": [
        "# My Notebook\n",
        "This is the first notebook for Machine Learning from Iversion"
      ]
    },
    {
      "metadata": {
        "id": "mDSAh5RL8Vj8",
        "colab_type": "code",
        "colab": {}
      },
      "cell_type": "code",
      "source": [
        ""
      ],
      "execution_count": 0,
      "outputs": []
    }
  ]
}